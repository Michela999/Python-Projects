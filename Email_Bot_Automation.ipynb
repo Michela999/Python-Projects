{
  "nbformat": 4,
  "nbformat_minor": 0,
  "metadata": {
    "colab": {
      "provenance": [],
      "authorship_tag": "ABX9TyO6qkb4VHKjQueFc5W9/aJd",
      "include_colab_link": true
    },
    "kernelspec": {
      "name": "python3",
      "display_name": "Python 3"
    },
    "language_info": {
      "name": "python"
    }
  },
  "cells": [
    {
      "cell_type": "markdown",
      "metadata": {
        "id": "view-in-github",
        "colab_type": "text"
      },
      "source": [
        "<a href=\"https://colab.research.google.com/github/Michela999/Python-Projects/blob/main/Email_Bot_Automation.ipynb\" target=\"_parent\"><img src=\"https://colab.research.google.com/assets/colab-badge.svg\" alt=\"Open In Colab\"/></a>"
      ]
    },
    {
      "cell_type": "code",
      "execution_count": null,
      "metadata": {
        "colab": {
          "base_uri": "https://localhost:8080/"
        },
        "id": "ksjY-U_iynqi",
        "outputId": "c3365b4a-4963-4d9e-e329-69c836ff0246"
      },
      "outputs": [
        {
          "output_type": "stream",
          "name": "stdout",
          "text": [
            "Email sent successfully!\n"
          ]
        }
      ],
      "source": [
        "import smtplib\n",
        "from email.mime.text import MIMEText\n",
        "from email.mime.multipart import MIMEMultipart\n",
        "import time\n",
        "\n",
        "# Email details\n",
        "sender_email = \"lemmytheoracle@gmail.com\"\n",
        "receiver_email = \"lemmytheoracle@gmail.com\"\n",
        "app_password = \"xuxedpiaicfjzupq\"\n",
        "\n",
        "# Email content\n",
        "subject = \"Automated Email from My Python Bot\"\n",
        "body = \"This is an automated email sent by your email bot!\"\n",
        "\n",
        "# Create message\n",
        "msg = MIMEMultipart()\n",
        "msg['From'] = sender_email\n",
        "msg['To'] = receiver_email\n",
        "msg['Subject'] = subject\n",
        "\n",
        "# Attach body with the msg instance\n",
        "msg.attach(MIMEText(body, 'plain'))\n",
        "\n",
        "# Function to send the email\n",
        "def send_email():\n",
        "    try:\n",
        "        # Set up the server\n",
        "        server = smtplib.SMTP_SSL(\"smtp.gmail.com\", 465)\n",
        "        server.login(sender_email, app_password)  # Log in with your email and app password\n",
        "\n",
        "        # Send email\n",
        "        server.sendmail(sender_email, receiver_email, msg.as_string())\n",
        "        print(\"Email sent successfully!\")\n",
        "\n",
        "        # Disconnect from the server\n",
        "        server.quit()\n",
        "    except Exception as e:\n",
        "        print(f\"Error occurred: {e}\")\n",
        "\n",
        "# Automate the email sending process every 5 minutes (for example)\n",
        "while True:\n",
        "    send_email()\n",
        "    time.sleep(300)  # Wait for 5 minutes (300 seconds)\n"
      ]
    }
  ]
}